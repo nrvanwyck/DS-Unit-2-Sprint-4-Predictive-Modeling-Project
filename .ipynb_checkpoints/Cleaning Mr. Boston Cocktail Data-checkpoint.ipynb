{
 "cells": [
  {
   "cell_type": "code",
   "execution_count": null,
   "metadata": {},
   "outputs": [],
   "source": [
    "import pandas as pd\n",
    "\n",
    "cocktails_df = pd.read_csv('cocktails.csv', index_col=0, dtype={47: object,\n",
    "                                                                53: object,\n",
    "                                                                57: object})\n",
    "ingredients_df = pd.read_csv('ingredients.csv', index_col=0)\n",
    "glasses_df = pd.read_csv('glasses.csv', index_col=0)"
   ]
  },
  {
   "cell_type": "code",
   "execution_count": null,
   "metadata": {},
   "outputs": [],
   "source": [
    "pd.set_option(\"display.max_rows\", 2500)\n",
    "\n",
    "cocktails_df = cocktails_df.sort_values(by=['edition_year']).groupby(\n",
    "    'master_recipe_id').last().reset_index()\n",
    "\n",
    "cocktails_df[['master_recipe_id', 'name', 'edition_year', 'year_introduced']\n",
    "            ].sort_values('name')\n",
    "\n",
    "cocktails_df.style.hide_index()"
   ]
  },
  {
   "cell_type": "code",
   "execution_count": null,
   "metadata": {},
   "outputs": [],
   "source": [
    "cocktails_df[['master_recipe_id', 'name', 'edition_year', 'year_introduced']][\n",
    "    cocktails_df['name'].str.contains('Alexander')].sort_values(\n",
    "    by=['year_introduced']).style.hide_index()"
   ]
  },
  {
   "cell_type": "code",
   "execution_count": null,
   "metadata": {},
   "outputs": [],
   "source": [
    "cocktails_df['master_recipe_id'] = cocktails_df['master_recipe_id'].replace({\n",
    "    1549: 160, 9709: 160, 9581: 35, 9599: 34})\n",
    "\n",
    "updated_year_introduced = cocktails_df.sort_values(\n",
    "    by='year_introduced').groupby(\n",
    "    'master_recipe_id').first().reset_index()[\n",
    "    ['master_recipe_id', 'year_introduced']]\n",
    "cocktails_df = cocktails_df.sort_values(by=['edition_year'], ascending=False)\n",
    "cocktails_df = cocktails_df.merge(updated_year_introduced)\n",
    "\n",
    "cocktails_df[['master_recipe_id', 'name', 'edition_year', 'year_introduced']][\n",
    "    cocktails_df['name'].str.contains('Alexander')].sort_values(\n",
    "    by=['year_introduced']).style.hide_index()"
   ]
  },
  {
   "cell_type": "code",
   "execution_count": null,
   "metadata": {},
   "outputs": [],
   "source": [
    "cocktails_df[['master_recipe_id', 'name', 'edition_year', 'year_introduced']][\n",
    "    cocktails_df['name'].str.contains('Pie')].sort_values(\n",
    "    by=['year_introduced']).style.hide_index()"
   ]
  },
  {
   "cell_type": "code",
   "execution_count": null,
   "metadata": {},
   "outputs": [],
   "source": [
    "cocktails_df[['master_recipe_id', 'name', 'edition_year', 'year_introduced']\n",
    "            ].sort_values('name')\n",
    "\n",
    "cocktails_df.style.hide_index()"
   ]
  },
  {
   "cell_type": "code",
   "execution_count": null,
   "metadata": {},
   "outputs": [],
   "source": [
    "# 1\tOld-Fashioned Whiskey Cocktail should be dropped given:\n",
    "# 1118\tOld-Fashioned Cocktail\n",
    "# See also 1839\tOld Fashioned Cocktail\n",
    "\n",
    "cocktails_df[['name', 'year_introduced']][\n",
    "    cocktails_df['name'].str.startswith('Old')]"
   ]
  },
  {
   "cell_type": "code",
   "execution_count": null,
   "metadata": {},
   "outputs": [],
   "source": [
    "# 3\tTraditional Martini (Sweet) should be dropped given:\n",
    "# 1724\tMartini Cocktail (Sweet)\n",
    "# See also 337\tMartini (Sweet)\n",
    "\n",
    "# 4\tTraditional Martini (Dry) should be dropped given:\n",
    "# 1721\tMartini Cocktail (Dry)\n",
    "# See also 2127\tDry Martini\n",
    "\n",
    "cocktails_df[['name', 'year_introduced']][\n",
    "    cocktails_df['name'].str.contains('Martini')]"
   ]
  },
  {
   "cell_type": "code",
   "execution_count": null,
   "metadata": {},
   "outputs": [],
   "source": [
    "# 5\tMargarita should be dropped given:\n",
    "# 1834\tMargarita Cocktail\n",
    "# See also 571\tMargarita Tequila\n",
    "\n",
    "cocktails_df[['name', 'year_introduced']][\n",
    "    cocktails_df['name'].str.contains('Margarita')]"
   ]
  },
  {
   "cell_type": "code",
   "execution_count": null,
   "metadata": {},
   "outputs": [],
   "source": [
    "# 6\tDaiquiri should be dropped given:\n",
    "# 1808\tDaiquiri Cocktail\n",
    "# See also 445\tClassic Daiquiri\n",
    "\n",
    "# 1229\tFrozein Daiquiris - Classic Frozen Daiquiri should be dropped given:\n",
    "# 1759\tFrozen Daiquiri Cocktail\n",
    "# See also 2341\tFrozen Daiquiri\n",
    "\n",
    "# 448\tPassion Daiquiri should be dropped given:\n",
    "# 1862\tPassion Daiquiri Cocktail\n",
    "\n",
    "# 1289\tMint Frozen Daiquiri should be dropped given:\n",
    "# 2342\tFrozen Mint Daiquiri\n",
    "\n",
    "# 1290\tPineapple Frozen Daiquiri should be dropped given:\n",
    "# 2343\tFrozen Pineapple Daiquiri\n",
    "\n",
    "cocktails_df[['name', 'year_introduced']][\n",
    "    cocktails_df['name'].str.contains('Daiquiri')]"
   ]
  },
  {
   "cell_type": "code",
   "execution_count": null,
   "metadata": {},
   "outputs": [],
   "source": [
    "# 7\tSidecar should be dropped given:\n",
    "# 136\tSidecar Cocktail\n",
    "\n",
    "# 195\tChelsea Sidecar should be dropped given:\n",
    "# 1803\tChelsea Sidecar Cocktail\n",
    "\n",
    "# 389\tBoston Sidecar should be dropped given:\n",
    "# 1797\tBoston Sidecar Cocktail\n",
    "\n",
    "cocktails_df[['name', 'year_introduced']][\n",
    "    cocktails_df['name'].str.contains('Sidecar')]"
   ]
  },
  {
   "cell_type": "code",
   "execution_count": null,
   "metadata": {},
   "outputs": [],
   "source": [
    "# 8\tMai-Tai (Trader Vic's) should be dropped given:\n",
    "# 9\tMai Tai\n",
    "# See also 623\tMai-Tai (Trader Vic Version)\n",
    "\n",
    "cocktails_df[['name', 'year_introduced']][\n",
    "    cocktails_df['name'].str.contains('Tai')]"
   ]
  },
  {
   "cell_type": "code",
   "execution_count": null,
   "metadata": {},
   "outputs": [],
   "source": [
    "# 684\tBloody Mary should be dropped given:\n",
    "# 10\tBloody Mary Cocktail\n",
    "# See also 1752\tBloody Bloody Mary Cocktail\n",
    "# and 1767\tVodka Bloody Mary Cocktail\n",
    "\n",
    "cocktails_df[['name', 'year_introduced']][\n",
    "    cocktails_df['name'].str.contains('Bloody')]"
   ]
  },
  {
   "cell_type": "code",
   "execution_count": null,
   "metadata": {},
   "outputs": [],
   "source": [
    "# 38\tBrandy Crusta should be dropped given:\n",
    "# 2161\tBrandy Crusta Cocktail\n",
    "\n",
    "cocktails_df[['name', 'year_introduced']][\n",
    "    cocktails_df['name'].str.contains('Crusta')]"
   ]
  },
  {
   "cell_type": "code",
   "execution_count": null,
   "metadata": {},
   "outputs": [],
   "source": [
    "# 1040\tManhattan (Dry) should be dropped given:\n",
    "# 1833\tManhattan Cocktail (dry)\n",
    "\n",
    "# 1764\tManhattan Cocktail (Sweet) should possibly be dropped given:\n",
    "# 1039\tManhattan Cocktail\n",
    "\n",
    "cocktails_df[['name', 'year_introduced']][\n",
    "    cocktails_df['name'].str.contains('Manhattan')]"
   ]
  },
  {
   "cell_type": "code",
   "execution_count": null,
   "metadata": {},
   "outputs": [],
   "source": [
    "# 352\tNegroni should be dropped given:\n",
    "# 1766\tNegronis\n",
    "\n",
    "cocktails_df[['name', 'year_introduced']][\n",
    "    cocktails_df['name'].str.contains('Negroni')]"
   ]
  }
 ],
 "metadata": {
  "kernelspec": {
   "display_name": "Python 3",
   "language": "python",
   "name": "python3"
  },
  "language_info": {
   "codemirror_mode": {
    "name": "ipython",
    "version": 3
   },
   "file_extension": ".py",
   "mimetype": "text/x-python",
   "name": "python",
   "nbconvert_exporter": "python",
   "pygments_lexer": "ipython3",
   "version": "3.7.3"
  }
 },
 "nbformat": 4,
 "nbformat_minor": 2
}
