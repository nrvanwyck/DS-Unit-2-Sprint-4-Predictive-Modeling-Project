{
 "cells": [
  {
   "cell_type": "code",
   "execution_count": 6,
   "metadata": {},
   "outputs": [],
   "source": [
    "import time\n",
    "from browsermobproxy import Server\n",
    "from selenium import webdriver\n",
    "from selenium.common.exceptions import StaleElementReferenceException\n",
    "import json\n",
    "\n",
    "server = Server('/anaconda3/bin/browsermob-proxy-2.1.4/bin/browsermob-proxy')\n",
    "server.start()\n",
    "proxy = server.create_proxy()\n",
    "\n",
    "options = webdriver.ChromeOptions()\n",
    "options.add_argument(\n",
    "    '--proxy-server={host}:{port}'.format(host='localhost', port=proxy.port))\n",
    "browser = webdriver.Chrome('/usr/local/bin/chromedriver',\n",
    "                           options=options)\n",
    "\n",
    "browser.get('https://mrbostondrinks.com/')\n",
    "time.sleep(1)\n",
    "\n",
    "browser.execute_script(\n",
    "    'window.localStorage.setItem(\"ngStorage-verified\", \"true\")')\n",
    "time.sleep(1)\n",
    "\n",
    "proxy.new_har('req',options={'captureHeaders': True,'captureContent':True})\n",
    "time.sleep(1)\n",
    "\n",
    "ed_1935 = 'old-mr-boston-deluxe-official-bartenders-guide-1935'\n",
    "ed_1957 = 'old-mr-boston-de-luxe-official-bartenders-guide-1957'\n",
    "ed_1960 = 'old-mr-boston-de-luxe-official-bartenders-guide-1960'\n",
    "ed_1964 = 'old-mr-boston-de-luxe-official-bartenders-guide-1964'\n",
    "ed_1972 = 'old-mr-boston-de-luxe-official-bartenders-guide-1972'\n",
    "ed_1974 = 'mr-boston-deluxe-official-bartenders-guide-1974'\n",
    "ed_1978 = 'mr-boston-deluxe-official-bartenders-guide-1978'\n",
    "ed_1984 = 'mr-boston-official-bartenders-guide-50th-anniversary-edition-1984'\n",
    "ed_1988 = 'mr-boston-official-bartenders-guide-1988'\n",
    "ed_2000 = 'mr-boston-official-bartenders-and-party-guide-2000-1'\n",
    "ed_2012 = 'mr-boston-official-bartenders-guide-2012'\n",
    "editions = [ed_1935, ed_1957, ed_1960, ed_1964, ed_1972, ed_1974, ed_1978,\n",
    "            ed_1984, ed_1988, ed_2000, ed_2012]\n",
    "\n",
    "master_recipes = {}\n",
    "for edition in editions:\n",
    "    browser.get('https://mrbostondrinks.com/books/' + edition)\n",
    "    time.sleep(1)\n",
    "    \n",
    "    see_more_button = browser.find_elements_by_xpath(\n",
    "        '//button[@id=\"see-more\"]')\n",
    "    while len(see_more_button) > 0:\n",
    "        try:\n",
    "            see_more_button[0].click()\n",
    "            time.sleep(1)\n",
    "        except StaleElementReferenceException:\n",
    "            break\n",
    "        \n",
    "    ed_recipes = []\n",
    "    for dictionary in proxy.har['log']['entries']:\n",
    "        if dictionary['request']['url'].startswith(\n",
    "            'https://api.mrboston.recipes/book/' + edition):\n",
    "                ed_recipes.append(json.loads(\n",
    "                    dictionary['response']['content']['text'])\n",
    "                                  ['recipes']['data'])\n",
    "    ed_recipes = [recipe for sublist in ed_recipes for recipe in sublist]\n",
    "    \n",
    "    master_recipes[edition] = ed_recipes\n",
    "    print(len(master_recipes[edition]), '\\t', edition)"
   ]
  },
  {
   "cell_type": "code",
   "execution_count": 52,
   "metadata": {},
   "outputs": [],
   "source": [
    "with open('master_recipes.json', 'w') as json_file:\n",
    "    json.dump(master_recipes, json_file)"
   ]
  },
  {
   "cell_type": "code",
   "execution_count": 1,
   "metadata": {},
   "outputs": [
    {
     "name": "stdout",
     "output_type": "stream",
     "text": [
      "673 \t old-mr-boston-deluxe-official-bartenders-guide-1935\n",
      "758 \t old-mr-boston-de-luxe-official-bartenders-guide-1957\n",
      "737 \t old-mr-boston-de-luxe-official-bartenders-guide-1960\n",
      "757 \t old-mr-boston-de-luxe-official-bartenders-guide-1964\n",
      "735 \t old-mr-boston-de-luxe-official-bartenders-guide-1972\n",
      "1004 \t mr-boston-deluxe-official-bartenders-guide-1974\n",
      "999 \t mr-boston-deluxe-official-bartenders-guide-1978\n",
      "1075 \t mr-boston-official-bartenders-guide-50th-anniversary-edition-1984\n",
      "1101 \t mr-boston-official-bartenders-guide-1988\n",
      "1174 \t mr-boston-official-bartenders-and-party-guide-2000-1\n",
      "1523 \t mr-boston-official-bartenders-guide-2012\n"
     ]
    }
   ],
   "source": [
    "with open('master_recipes.json') as json_file:\n",
    "    master_recipes = json.load(json_file)\n",
    "\n",
    "for edition in master_recipes:\n",
    "    print(len(master_recipes[edition]), '\\t', edition)"
   ]
  }
 ],
 "metadata": {
  "kernelspec": {
   "display_name": "Python 3",
   "language": "python",
   "name": "python3"
  },
  "language_info": {
   "codemirror_mode": {
    "name": "ipython",
    "version": 3
   },
   "file_extension": ".py",
   "mimetype": "text/x-python",
   "name": "python",
   "nbconvert_exporter": "python",
   "pygments_lexer": "ipython3",
   "version": "3.7.3"
  }
 },
 "nbformat": 4,
 "nbformat_minor": 2
}
